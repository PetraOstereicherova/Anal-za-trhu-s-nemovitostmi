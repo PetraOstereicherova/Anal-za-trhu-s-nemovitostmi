{
 "cells": [
  {
   "cell_type": "code",
   "execution_count": 1,
   "id": "f93c2ac7-819b-40cd-b344-bc674fc60098",
   "metadata": {},
   "outputs": [],
   "source": [
    "import pandas as pd\n",
    "import matplotlib.pyplot as plt\n",
    "import seaborn as sns"
   ]
  },
  {
   "cell_type": "code",
   "execution_count": 2,
   "id": "a1704261-c768-4e87-917b-bb462558afbf",
   "metadata": {},
   "outputs": [
    {
     "data": {
      "text/html": [
       "<div>\n",
       "<style scoped>\n",
       "    .dataframe tbody tr th:only-of-type {\n",
       "        vertical-align: middle;\n",
       "    }\n",
       "\n",
       "    .dataframe tbody tr th {\n",
       "        vertical-align: top;\n",
       "    }\n",
       "\n",
       "    .dataframe thead th {\n",
       "        text-align: right;\n",
       "    }\n",
       "</style>\n",
       "<table border=\"1\" class=\"dataframe\">\n",
       "  <thead>\n",
       "    <tr style=\"text-align: right;\">\n",
       "      <th></th>\n",
       "      <th>ID</th>\n",
       "      <th>City</th>\n",
       "      <th>District</th>\n",
       "      <th>Property_Type</th>\n",
       "      <th>Price</th>\n",
       "      <th>Size_sqm</th>\n",
       "      <th>Rooms</th>\n",
       "      <th>Year_Built</th>\n",
       "      <th>Elevator</th>\n",
       "      <th>Balcony</th>\n",
       "      <th>Garden</th>\n",
       "    </tr>\n",
       "  </thead>\n",
       "  <tbody>\n",
       "    <tr>\n",
       "      <th>0</th>\n",
       "      <td>1</td>\n",
       "      <td>Prague</td>\n",
       "      <td>District 1</td>\n",
       "      <td>Apartment</td>\n",
       "      <td>2500000</td>\n",
       "      <td>40</td>\n",
       "      <td>1</td>\n",
       "      <td>1990</td>\n",
       "      <td>True</td>\n",
       "      <td>True</td>\n",
       "      <td>True</td>\n",
       "    </tr>\n",
       "    <tr>\n",
       "      <th>1</th>\n",
       "      <td>2</td>\n",
       "      <td>Prague</td>\n",
       "      <td>District 2</td>\n",
       "      <td>Apartment</td>\n",
       "      <td>2550000</td>\n",
       "      <td>45</td>\n",
       "      <td>2</td>\n",
       "      <td>1991</td>\n",
       "      <td>False</td>\n",
       "      <td>False</td>\n",
       "      <td>False</td>\n",
       "    </tr>\n",
       "    <tr>\n",
       "      <th>2</th>\n",
       "      <td>3</td>\n",
       "      <td>Prague</td>\n",
       "      <td>District 3</td>\n",
       "      <td>Apartment</td>\n",
       "      <td>2600000</td>\n",
       "      <td>50</td>\n",
       "      <td>3</td>\n",
       "      <td>1992</td>\n",
       "      <td>True</td>\n",
       "      <td>False</td>\n",
       "      <td>False</td>\n",
       "    </tr>\n",
       "    <tr>\n",
       "      <th>3</th>\n",
       "      <td>4</td>\n",
       "      <td>Prague</td>\n",
       "      <td>District 4</td>\n",
       "      <td>Apartment</td>\n",
       "      <td>2650000</td>\n",
       "      <td>55</td>\n",
       "      <td>4</td>\n",
       "      <td>1993</td>\n",
       "      <td>False</td>\n",
       "      <td>True</td>\n",
       "      <td>False</td>\n",
       "    </tr>\n",
       "    <tr>\n",
       "      <th>4</th>\n",
       "      <td>5</td>\n",
       "      <td>Prague</td>\n",
       "      <td>District 5</td>\n",
       "      <td>Apartment</td>\n",
       "      <td>2700000</td>\n",
       "      <td>60</td>\n",
       "      <td>1</td>\n",
       "      <td>1994</td>\n",
       "      <td>True</td>\n",
       "      <td>False</td>\n",
       "      <td>False</td>\n",
       "    </tr>\n",
       "  </tbody>\n",
       "</table>\n",
       "</div>"
      ],
      "text/plain": [
       "   ID    City    District Property_Type    Price  Size_sqm  Rooms  Year_Built  \\\n",
       "0   1  Prague  District 1     Apartment  2500000        40      1        1990   \n",
       "1   2  Prague  District 2     Apartment  2550000        45      2        1991   \n",
       "2   3  Prague  District 3     Apartment  2600000        50      3        1992   \n",
       "3   4  Prague  District 4     Apartment  2650000        55      4        1993   \n",
       "4   5  Prague  District 5     Apartment  2700000        60      1        1994   \n",
       "\n",
       "   Elevator  Balcony  Garden  \n",
       "0      True     True    True  \n",
       "1     False    False   False  \n",
       "2      True    False   False  \n",
       "3     False     True   False  \n",
       "4      True    False   False  "
      ]
     },
     "execution_count": 2,
     "metadata": {},
     "output_type": "execute_result"
    }
   ],
   "source": [
    "df = pd.read_csv('real_estate_data.csv', delimiter=';', encoding='utf-8') \n",
    "df.head()"
   ]
  },
  {
   "cell_type": "code",
   "execution_count": 3,
   "id": "a99d0cde-e9b5-44c5-b6ed-e58454737dd1",
   "metadata": {},
   "outputs": [
    {
     "data": {
      "text/plain": [
       "ID               False\n",
       "City             False\n",
       "District         False\n",
       "Property_Type    False\n",
       "Price            False\n",
       "Size_sqm         False\n",
       "Rooms            False\n",
       "Year_Built       False\n",
       "Elevator         False\n",
       "Balcony          False\n",
       "Garden           False\n",
       "dtype: bool"
      ]
     },
     "execution_count": 3,
     "metadata": {},
     "output_type": "execute_result"
    }
   ],
   "source": [
    "df.isnull().any()"
   ]
  },
  {
   "cell_type": "code",
   "execution_count": 4,
   "id": "64af1c4a-2a4b-413d-b71d-14f0008d2c22",
   "metadata": {},
   "outputs": [
    {
     "data": {
      "text/plain": [
       "0"
      ]
     },
     "execution_count": 4,
     "metadata": {},
     "output_type": "execute_result"
    }
   ],
   "source": [
    "df.duplicated().sum()"
   ]
  },
  {
   "cell_type": "code",
   "execution_count": 5,
   "id": "d182cb65-acbe-4f60-8008-60049bed9697",
   "metadata": {},
   "outputs": [
    {
     "name": "stdout",
     "output_type": "stream",
     "text": [
      "<class 'pandas.core.frame.DataFrame'>\n",
      "RangeIndex: 100 entries, 0 to 99\n",
      "Data columns (total 11 columns):\n",
      " #   Column         Non-Null Count  Dtype \n",
      "---  ------         --------------  ----- \n",
      " 0   ID             100 non-null    int64 \n",
      " 1   City           100 non-null    object\n",
      " 2   District       100 non-null    object\n",
      " 3   Property_Type  100 non-null    object\n",
      " 4   Price          100 non-null    int64 \n",
      " 5   Size_sqm       100 non-null    int64 \n",
      " 6   Rooms          100 non-null    int64 \n",
      " 7   Year_Built     100 non-null    int64 \n",
      " 8   Elevator       100 non-null    bool  \n",
      " 9   Balcony        100 non-null    bool  \n",
      " 10  Garden         100 non-null    bool  \n",
      "dtypes: bool(3), int64(5), object(3)\n",
      "memory usage: 6.7+ KB\n"
     ]
    }
   ],
   "source": [
    "df.info()"
   ]
  },
  {
   "cell_type": "code",
   "execution_count": 6,
   "id": "56b4ea2e-02df-479f-a6dc-df4b362c0dd8",
   "metadata": {},
   "outputs": [
    {
     "data": {
      "text/html": [
       "<div>\n",
       "<style scoped>\n",
       "    .dataframe tbody tr th:only-of-type {\n",
       "        vertical-align: middle;\n",
       "    }\n",
       "\n",
       "    .dataframe tbody tr th {\n",
       "        vertical-align: top;\n",
       "    }\n",
       "\n",
       "    .dataframe thead th {\n",
       "        text-align: right;\n",
       "    }\n",
       "</style>\n",
       "<table border=\"1\" class=\"dataframe\">\n",
       "  <thead>\n",
       "    <tr style=\"text-align: right;\">\n",
       "      <th></th>\n",
       "      <th>ID</th>\n",
       "      <th>Price</th>\n",
       "      <th>Size_sqm</th>\n",
       "      <th>Rooms</th>\n",
       "      <th>Year_Built</th>\n",
       "    </tr>\n",
       "  </thead>\n",
       "  <tbody>\n",
       "    <tr>\n",
       "      <th>count</th>\n",
       "      <td>100.000000</td>\n",
       "      <td>1.000000e+02</td>\n",
       "      <td>100.000000</td>\n",
       "      <td>100.000000</td>\n",
       "      <td>100.000000</td>\n",
       "    </tr>\n",
       "    <tr>\n",
       "      <th>mean</th>\n",
       "      <td>50.500000</td>\n",
       "      <td>4.975000e+06</td>\n",
       "      <td>62.500000</td>\n",
       "      <td>2.500000</td>\n",
       "      <td>2003.500000</td>\n",
       "    </tr>\n",
       "    <tr>\n",
       "      <th>std</th>\n",
       "      <td>29.011492</td>\n",
       "      <td>1.450575e+06</td>\n",
       "      <td>14.433757</td>\n",
       "      <td>1.123666</td>\n",
       "      <td>8.833476</td>\n",
       "    </tr>\n",
       "    <tr>\n",
       "      <th>min</th>\n",
       "      <td>1.000000</td>\n",
       "      <td>2.500000e+06</td>\n",
       "      <td>40.000000</td>\n",
       "      <td>1.000000</td>\n",
       "      <td>1990.000000</td>\n",
       "    </tr>\n",
       "    <tr>\n",
       "      <th>25%</th>\n",
       "      <td>25.750000</td>\n",
       "      <td>3.737500e+06</td>\n",
       "      <td>50.000000</td>\n",
       "      <td>1.750000</td>\n",
       "      <td>1996.000000</td>\n",
       "    </tr>\n",
       "    <tr>\n",
       "      <th>50%</th>\n",
       "      <td>50.500000</td>\n",
       "      <td>4.975000e+06</td>\n",
       "      <td>62.500000</td>\n",
       "      <td>2.500000</td>\n",
       "      <td>2003.000000</td>\n",
       "    </tr>\n",
       "    <tr>\n",
       "      <th>75%</th>\n",
       "      <td>75.250000</td>\n",
       "      <td>6.212500e+06</td>\n",
       "      <td>75.000000</td>\n",
       "      <td>3.250000</td>\n",
       "      <td>2011.000000</td>\n",
       "    </tr>\n",
       "    <tr>\n",
       "      <th>max</th>\n",
       "      <td>100.000000</td>\n",
       "      <td>7.450000e+06</td>\n",
       "      <td>85.000000</td>\n",
       "      <td>4.000000</td>\n",
       "      <td>2019.000000</td>\n",
       "    </tr>\n",
       "  </tbody>\n",
       "</table>\n",
       "</div>"
      ],
      "text/plain": [
       "               ID         Price    Size_sqm       Rooms   Year_Built\n",
       "count  100.000000  1.000000e+02  100.000000  100.000000   100.000000\n",
       "mean    50.500000  4.975000e+06   62.500000    2.500000  2003.500000\n",
       "std     29.011492  1.450575e+06   14.433757    1.123666     8.833476\n",
       "min      1.000000  2.500000e+06   40.000000    1.000000  1990.000000\n",
       "25%     25.750000  3.737500e+06   50.000000    1.750000  1996.000000\n",
       "50%     50.500000  4.975000e+06   62.500000    2.500000  2003.000000\n",
       "75%     75.250000  6.212500e+06   75.000000    3.250000  2011.000000\n",
       "max    100.000000  7.450000e+06   85.000000    4.000000  2019.000000"
      ]
     },
     "execution_count": 6,
     "metadata": {},
     "output_type": "execute_result"
    }
   ],
   "source": [
    "df.describe()"
   ]
  },
  {
   "cell_type": "code",
   "execution_count": 7,
   "id": "8bb764b9-57ed-4a53-880f-dec9f9f63fc3",
   "metadata": {},
   "outputs": [
    {
     "data": {
      "text/plain": [
       "(100, 11)"
      ]
     },
     "execution_count": 7,
     "metadata": {},
     "output_type": "execute_result"
    }
   ],
   "source": [
    "df.shape"
   ]
  },
  {
   "cell_type": "code",
   "execution_count": 8,
   "id": "ef75c00c-9b5f-4cb3-a787-b302d366aab7",
   "metadata": {},
   "outputs": [
    {
     "data": {
      "text/plain": [
       "7450000"
      ]
     },
     "execution_count": 8,
     "metadata": {},
     "output_type": "execute_result"
    }
   ],
   "source": [
    "df['Price'].max()"
   ]
  },
  {
   "cell_type": "code",
   "execution_count": 9,
   "id": "eb1b6af2-6f41-4010-915c-e23aaf045304",
   "metadata": {},
   "outputs": [
    {
     "data": {
      "text/plain": [
       "2500000"
      ]
     },
     "execution_count": 9,
     "metadata": {},
     "output_type": "execute_result"
    }
   ],
   "source": [
    "df['Price'].min()"
   ]
  },
  {
   "cell_type": "code",
   "execution_count": 10,
   "id": "eedaf978-60cc-4dac-8377-146a81b9a28d",
   "metadata": {},
   "outputs": [
    {
     "data": {
      "text/plain": [
       "2.5"
      ]
     },
     "execution_count": 10,
     "metadata": {},
     "output_type": "execute_result"
    }
   ],
   "source": [
    "df['Rooms'].mean()"
   ]
  },
  {
   "cell_type": "markdown",
   "id": "612da056-0611-47ce-8994-b374e13dd123",
   "metadata": {},
   "source": [
    "PRŮMĚRNÁ CENA ZA METR ČTVEREČNÍ V JEDNOTLIVÝCH MĚSTECH A MĚSTSKÝCH ČÁSTECH"
   ]
  },
  {
   "cell_type": "code",
   "execution_count": 12,
   "id": "ae45318c-e675-4391-b859-2b1d1b5649fd",
   "metadata": {},
   "outputs": [],
   "source": [
    "df['Price_per_sqm'] = df['Price'] / df['Size_sqm']"
   ]
  },
  {
   "cell_type": "code",
   "execution_count": 13,
   "id": "2b361d6b-a179-40c8-a587-313eb1af418a",
   "metadata": {},
   "outputs": [
    {
     "name": "stdout",
     "output_type": "stream",
     "text": [
      "Průměrná cena podle města City\n",
      "Brno        96362.928738\n",
      "Ostrava    117530.313233\n",
      "Prague      62495.113547\n",
      "Name: Price_per_sqm, dtype: float64\n",
      "Průměrná cena podle mětské části:  City     District   \n",
      "Brno     District 1     137500.000000\n",
      "         District 10     70000.000000\n",
      "         District 2     123333.333333\n",
      "         District 3     112000.000000\n",
      "         District 4     102727.272727\n",
      "         District 5      95000.000000\n",
      "         District 6      88461.538462\n",
      "         District 7      82857.142857\n",
      "         District 8      78000.000000\n",
      "         District 9      73750.000000\n",
      "Ostrava  District 1     168750.000000\n",
      "         District 10     84705.882353\n",
      "         District 2     151111.111111\n",
      "         District 3     137000.000000\n",
      "         District 4     125454.545455\n",
      "         District 5     115833.333333\n",
      "         District 6     107692.307692\n",
      "         District 7     100714.285714\n",
      "         District 8      94666.666667\n",
      "         District 9      89375.000000\n",
      "Prague   District 1      87500.000000\n",
      "         District 10     46470.588235\n",
      "         District 2      78888.888889\n",
      "         District 3      72000.000000\n",
      "         District 4      66363.636364\n",
      "         District 5      61666.666667\n",
      "         District 6      57692.307692\n",
      "         District 7      54285.714286\n",
      "         District 8      51333.333333\n",
      "         District 9      48750.000000\n",
      "Name: Price_per_sqm, dtype: float64\n"
     ]
    }
   ],
   "source": [
    "prum_cena_mesto = df.groupby('City')['Price_per_sqm'].mean()\n",
    "print('Průměrná cena podle města', prum_cena_mesto)\n",
    "\n",
    "prum_cena_casti = df.groupby(['City', 'District'])['Price_per_sqm'].mean()\n",
    "print('Průměrná cena podle mětské části: ' , prum_cena_casti)"
   ]
  },
  {
   "cell_type": "markdown",
   "id": "d308e040-3c57-4bce-89cb-8eecea00dc28",
   "metadata": {},
   "source": [
    "NEJDRAŽŠÍ A NEJLEVNĚJŠÍ NEMOVITOSTI"
   ]
  },
  {
   "cell_type": "code",
   "execution_count": 15,
   "id": "f2b2c9c2-4ba6-434e-aa6a-87ad48be8f99",
   "metadata": {},
   "outputs": [
    {
     "data": {
      "text/html": [
       "<div>\n",
       "<style scoped>\n",
       "    .dataframe tbody tr th:only-of-type {\n",
       "        vertical-align: middle;\n",
       "    }\n",
       "\n",
       "    .dataframe tbody tr th {\n",
       "        vertical-align: top;\n",
       "    }\n",
       "\n",
       "    .dataframe thead th {\n",
       "        text-align: right;\n",
       "    }\n",
       "</style>\n",
       "<table border=\"1\" class=\"dataframe\">\n",
       "  <thead>\n",
       "    <tr style=\"text-align: right;\">\n",
       "      <th></th>\n",
       "      <th>ID</th>\n",
       "      <th>Price</th>\n",
       "    </tr>\n",
       "  </thead>\n",
       "  <tbody>\n",
       "    <tr>\n",
       "      <th>99</th>\n",
       "      <td>100</td>\n",
       "      <td>7450000</td>\n",
       "    </tr>\n",
       "    <tr>\n",
       "      <th>98</th>\n",
       "      <td>99</td>\n",
       "      <td>7400000</td>\n",
       "    </tr>\n",
       "    <tr>\n",
       "      <th>97</th>\n",
       "      <td>98</td>\n",
       "      <td>7350000</td>\n",
       "    </tr>\n",
       "    <tr>\n",
       "      <th>96</th>\n",
       "      <td>97</td>\n",
       "      <td>7300000</td>\n",
       "    </tr>\n",
       "    <tr>\n",
       "      <th>95</th>\n",
       "      <td>96</td>\n",
       "      <td>7250000</td>\n",
       "    </tr>\n",
       "  </tbody>\n",
       "</table>\n",
       "</div>"
      ],
      "text/plain": [
       "     ID    Price\n",
       "99  100  7450000\n",
       "98   99  7400000\n",
       "97   98  7350000\n",
       "96   97  7300000\n",
       "95   96  7250000"
      ]
     },
     "execution_count": 15,
     "metadata": {},
     "output_type": "execute_result"
    }
   ],
   "source": [
    "grouped = df.groupby('ID')['Price'].sum().reset_index()\n",
    "nejdrazsi = grouped.sort_values(by='Price', ascending=False).head(5)\n",
    "nejdrazsi"
   ]
  },
  {
   "cell_type": "code",
   "execution_count": 16,
   "id": "d6f59828-d1fe-4892-bcfc-c39a59e63086",
   "metadata": {},
   "outputs": [
    {
     "data": {
      "text/html": [
       "<div>\n",
       "<style scoped>\n",
       "    .dataframe tbody tr th:only-of-type {\n",
       "        vertical-align: middle;\n",
       "    }\n",
       "\n",
       "    .dataframe tbody tr th {\n",
       "        vertical-align: top;\n",
       "    }\n",
       "\n",
       "    .dataframe thead th {\n",
       "        text-align: right;\n",
       "    }\n",
       "</style>\n",
       "<table border=\"1\" class=\"dataframe\">\n",
       "  <thead>\n",
       "    <tr style=\"text-align: right;\">\n",
       "      <th></th>\n",
       "      <th>ID</th>\n",
       "      <th>Price</th>\n",
       "    </tr>\n",
       "  </thead>\n",
       "  <tbody>\n",
       "    <tr>\n",
       "      <th>0</th>\n",
       "      <td>1</td>\n",
       "      <td>2500000</td>\n",
       "    </tr>\n",
       "    <tr>\n",
       "      <th>1</th>\n",
       "      <td>2</td>\n",
       "      <td>2550000</td>\n",
       "    </tr>\n",
       "    <tr>\n",
       "      <th>2</th>\n",
       "      <td>3</td>\n",
       "      <td>2600000</td>\n",
       "    </tr>\n",
       "    <tr>\n",
       "      <th>3</th>\n",
       "      <td>4</td>\n",
       "      <td>2650000</td>\n",
       "    </tr>\n",
       "    <tr>\n",
       "      <th>4</th>\n",
       "      <td>5</td>\n",
       "      <td>2700000</td>\n",
       "    </tr>\n",
       "  </tbody>\n",
       "</table>\n",
       "</div>"
      ],
      "text/plain": [
       "   ID    Price\n",
       "0   1  2500000\n",
       "1   2  2550000\n",
       "2   3  2600000\n",
       "3   4  2650000\n",
       "4   5  2700000"
      ]
     },
     "execution_count": 16,
     "metadata": {},
     "output_type": "execute_result"
    }
   ],
   "source": [
    "nejlevnejsi = grouped.sort_values(by='Price', ascending=True).head(5)\n",
    "nejlevnejsi"
   ]
  },
  {
   "cell_type": "markdown",
   "id": "445a7f78-d72a-446d-8ead-f1f812fad96a",
   "metadata": {},
   "source": [
    "DISTRIBUCE VELIKOSTI BYTŮ"
   ]
  },
  {
   "cell_type": "code",
   "execution_count": 18,
   "id": "a2ce2b73-03ba-42d6-a7a9-de0c342c0edb",
   "metadata": {},
   "outputs": [
    {
     "data": {
      "text/html": [
       "<div>\n",
       "<style scoped>\n",
       "    .dataframe tbody tr th:only-of-type {\n",
       "        vertical-align: middle;\n",
       "    }\n",
       "\n",
       "    .dataframe tbody tr th {\n",
       "        vertical-align: top;\n",
       "    }\n",
       "\n",
       "    .dataframe thead th {\n",
       "        text-align: right;\n",
       "    }\n",
       "</style>\n",
       "<table border=\"1\" class=\"dataframe\">\n",
       "  <thead>\n",
       "    <tr style=\"text-align: right;\">\n",
       "      <th></th>\n",
       "      <th>Property_Type</th>\n",
       "      <th>Size_sqm</th>\n",
       "    </tr>\n",
       "  </thead>\n",
       "  <tbody>\n",
       "    <tr>\n",
       "      <th>0</th>\n",
       "      <td>Apartment</td>\n",
       "      <td>60</td>\n",
       "    </tr>\n",
       "    <tr>\n",
       "      <th>1</th>\n",
       "      <td>House</td>\n",
       "      <td>40</td>\n",
       "    </tr>\n",
       "  </tbody>\n",
       "</table>\n",
       "</div>"
      ],
      "text/plain": [
       "  Property_Type  Size_sqm\n",
       "0     Apartment        60\n",
       "1         House        40"
      ]
     },
     "execution_count": 18,
     "metadata": {},
     "output_type": "execute_result"
    }
   ],
   "source": [
    "rozlozeni = df.groupby('Property_Type')['Size_sqm'].count().reset_index()\n",
    "rozlozeni"
   ]
  },
  {
   "cell_type": "markdown",
   "id": "7f92fd55-8df4-42ab-a4ea-a2341e981f0f",
   "metadata": {},
   "source": [
    "HISTOGRAM - ROZLOŽENÍ NEMOVITOSTI PODLE VELIKOSTI"
   ]
  },
  {
   "cell_type": "code",
   "execution_count": 20,
   "id": "3203641a-400d-4e74-9901-06c38db7ff9a",
   "metadata": {},
   "outputs": [
    {
     "data": {
      "image/png": "[encoded data removed]",
      "text/plain": [
       "<Figure size 1000x500 with 1 Axes>"
      ]
     },
     "metadata": {},
     "output_type": "display_data"
    }
   ],
   "source": [
    "plt.figure(figsize=(10,5))\n",
    "sns.histplot(x=rozlozeni['Size_sqm'], y=rozlozeni['Property_Type'], bins=20, kde=True, color='skyblue', edgecolor='black')\n",
    "plt.title('Rozložení nemovitosti podle velikosti')\n",
    "plt.xlabel('Velikost')\n",
    "plt.ylabel('Typ_nemovitosti')\n",
    "plt.show()"
   ]
  },
  {
   "cell_type": "markdown",
   "id": "1df0ce8d-5c25-412b-b0ae-d5b7b99cb063",
   "metadata": {},
   "source": [
    "VLIV BALKONU ČI ZAHRADY NA CENU"
   ]
  },
  {
   "cell_type": "code",
   "execution_count": 22,
   "id": "ffc3d017-2f9f-4451-a21f-e717d8ceaf22",
   "metadata": {},
   "outputs": [
    {
     "name": "stdout",
     "output_type": "stream",
     "text": [
      "Průměrná cena za m² podle přítomnosti balkonu:\n",
      " Balcony\n",
      "False    83514.566984\n",
      "True     83949.658329\n",
      "Name: Price_per_sqm, dtype: float64\n",
      "Průměrná cena za m² podle přítomnosti zahrady:\n",
      " Garden\n",
      "False    80118.987936\n",
      "True     97836.538462\n",
      "Name: Price_per_sqm, dtype: float64\n"
     ]
    }
   ],
   "source": [
    "balkon_cena = df.groupby('Balcony')['Price_per_sqm'].mean()\n",
    "zahrada_cena = df.groupby('Garden')['Price_per_sqm'].mean()\n",
    "print(\"Průměrná cena za m² podle přítomnosti balkonu:\\n\", balkon_cena)\n",
    "print(\"Průměrná cena za m² podle přítomnosti zahrady:\\n\", zahrada_cena)\n"
   ]
  },
  {
   "cell_type": "code",
   "execution_count": 23,
   "id": "07f7e7c8-b8ce-4d4c-b49b-c4a31d57961a",
   "metadata": {},
   "outputs": [
    {
     "data": {
      "text/html": [
       "<div>\n",
       "<style scoped>\n",
       "    .dataframe tbody tr th:only-of-type {\n",
       "        vertical-align: middle;\n",
       "    }\n",
       "\n",
       "    .dataframe tbody tr th {\n",
       "        vertical-align: top;\n",
       "    }\n",
       "\n",
       "    .dataframe thead th {\n",
       "        text-align: right;\n",
       "    }\n",
       "</style>\n",
       "<table border=\"1\" class=\"dataframe\">\n",
       "  <thead>\n",
       "    <tr style=\"text-align: right;\">\n",
       "      <th></th>\n",
       "      <th>Property_Type</th>\n",
       "      <th>Price</th>\n",
       "    </tr>\n",
       "  </thead>\n",
       "  <tbody>\n",
       "    <tr>\n",
       "      <th>0</th>\n",
       "      <td>Apartment</td>\n",
       "      <td>3975000.0</td>\n",
       "    </tr>\n",
       "    <tr>\n",
       "      <th>1</th>\n",
       "      <td>House</td>\n",
       "      <td>6475000.0</td>\n",
       "    </tr>\n",
       "  </tbody>\n",
       "</table>\n",
       "</div>"
      ],
      "text/plain": [
       "  Property_Type      Price\n",
       "0     Apartment  3975000.0\n",
       "1         House  6475000.0"
      ]
     },
     "execution_count": 23,
     "metadata": {},
     "output_type": "execute_result"
    }
   ],
   "source": [
    "prumerna_cena = df.groupby('Property_Type').agg({'Price':'mean'}).reset_index()\n",
    "prumerna_cena"
   ]
  },
  {
   "cell_type": "markdown",
   "id": "83dead92-2ada-45e4-9467-f682333e82c4",
   "metadata": {},
   "source": [
    "TREND MEZI ROKEM VÝSTAVBY A CENOU ZA METR ČVEREČNÍ"
   ]
  },
  {
   "cell_type": "code",
   "execution_count": 25,
   "id": "aeeaba7d-9db5-4ff8-803f-0db299372483",
   "metadata": {},
   "outputs": [
    {
     "name": "stdout",
     "output_type": "stream",
     "text": [
      "Vztah mezi rokem výstavby a cenou za m2:\n",
      "                Year_Built  Price_per_sqm\n",
      "Year_Built       1.000000      -0.140269\n",
      "Price_per_sqm   -0.140269       1.000000\n"
     ]
    },
    {
     "data": {
      "text/plain": [
       "<Figure size 800x500 with 0 Axes>"
      ]
     },
     "metadata": {},
     "output_type": "display_data"
    },
    {
     "data": {
      "image/png": "[encoded data removed]",
      "text/plain": [
       "<Figure size 640x480 with 1 Axes>"
      ]
     },
     "metadata": {},
     "output_type": "display_data"
    }
   ],
   "source": [
    "vztah = df[['Year_Built', 'Price_per_sqm']].corr()\n",
    "print('Vztah mezi rokem výstavby a cenou za m2:\\n', vztah)\n",
    "\n",
    "plt.figure(figsize=(8,5))\n",
    "df.plot.scatter(x='Year_Built', y='Price_per_sqm', alpha=0.6, color='green')\n",
    "plt.title('Vztah mezi rokem výstavby a cenou za m2')\n",
    "plt.xlabel('Rok výstavby')\n",
    "plt.ylabel('Cena za m2')\n",
    "plt.show()"
   ]
  },
  {
   "cell_type": "markdown",
   "id": "f58ba555-7ed3-43ea-8575-4cfb11cdce76",
   "metadata": {},
   "source": [
    "PREDIKCE CENY"
   ]
  },
  {
   "cell_type": "code",
   "execution_count": 27,
   "id": "e99e4c5e-3018-4ff0-bd54-0d1e0682b9b0",
   "metadata": {},
   "outputs": [],
   "source": [
    "import pandas as pd\n",
    "import numpy as np\n",
    "import matplotlib.pyplot as plt\n",
    "import seaborn as sns\n",
    "from sklearn.model_selection import train_test_split\n",
    "from sklearn.linear_model import LinearRegression\n",
    "from sklearn.metrics import mean_absolute_error, mean_squared_error"
   ]
  },
  {
   "cell_type": "code",
   "execution_count": 28,
   "id": "97f20ded-1e51-460e-bd01-c52644ad270e",
   "metadata": {},
   "outputs": [],
   "source": [
    "X = df[['Rooms']]\n",
    "y= df['Price']\n",
    "X_train, X_test, y_train, y_test = train_test_split(X,y,test_size=0.2, random_state=42)"
   ]
  },
  {
   "cell_type": "code",
   "execution_count": 29,
   "id": "15d9616d-a93c-4f11-9336-58d210f69795",
   "metadata": {},
   "outputs": [
    {
     "data": {
      "text/html": [
       "<style>#sk-container-id-1 {color: black;}#sk-container-id-1 pre{padding: 0;}#sk-container-id-1 div.sk-toggleable {background-color: white;}#sk-container-id-1 label.sk-toggleable__label {cursor: pointer;display: block;width: 100%;margin-bottom: 0;padding: 0.3em;box-sizing: border-box;text-align: center;}#sk-container-id-1 label.sk-toggleable__label-arrow:before {content: \"▸\";float: left;margin-right: 0.25em;color: #696969;}#sk-container-id-1 label.sk-toggleable__label-arrow:hover:before {color: black;}#sk-container-id-1 div.sk-estimator:hover label.sk-toggleable__label-arrow:before {color: black;}#sk-container-id-1 div.sk-toggleable__content {max-height: 0;max-width: 0;overflow: hidden;text-align: left;background-color: #f0f8ff;}#sk-container-id-1 div.sk-toggleable__content pre {margin: 0.2em;color: black;border-radius: 0.25em;background-color: #f0f8ff;}#sk-container-id-1 input.sk-toggleable__control:checked~div.sk-toggleable__content {max-height: 200px;max-width: 100%;overflow: auto;}#sk-container-id-1 input.sk-toggleable__control:checked~label.sk-toggleable__label-arrow:before {content: \"▾\";}#sk-container-id-1 div.sk-estimator input.sk-toggleable__control:checked~label.sk-toggleable__label {background-color: #d4ebff;}#sk-container-id-1 div.sk-label input.sk-toggleable__control:checked~label.sk-toggleable__label {background-color: #d4ebff;}#sk-container-id-1 input.sk-hidden--visually {border: 0;clip: rect(1px 1px 1px 1px);clip: rect(1px, 1px, 1px, 1px);height: 1px;margin: -1px;overflow: hidden;padding: 0;position: absolute;width: 1px;}#sk-container-id-1 div.sk-estimator {font-family: monospace;background-color: #f0f8ff;border: 1px dotted black;border-radius: 0.25em;box-sizing: border-box;margin-bottom: 0.5em;}#sk-container-id-1 div.sk-estimator:hover {background-color: #d4ebff;}#sk-container-id-1 div.sk-parallel-item::after {content: \"\";width: 100%;border-bottom: 1px solid gray;flex-grow: 1;}#sk-container-id-1 div.sk-label:hover label.sk-toggleable__label {background-color: #d4ebff;}#sk-container-id-1 div.sk-serial::before {content: \"\";position: absolute;border-left: 1px solid gray;box-sizing: border-box;top: 0;bottom: 0;left: 50%;z-index: 0;}#sk-container-id-1 div.sk-serial {display: flex;flex-direction: column;align-items: center;background-color: white;padding-right: 0.2em;padding-left: 0.2em;position: relative;}#sk-container-id-1 div.sk-item {position: relative;z-index: 1;}#sk-container-id-1 div.sk-parallel {display: flex;align-items: stretch;justify-content: center;background-color: white;position: relative;}#sk-container-id-1 div.sk-item::before, #sk-container-id-1 div.sk-parallel-item::before {content: \"\";position: absolute;border-left: 1px solid gray;box-sizing: border-box;top: 0;bottom: 0;left: 50%;z-index: -1;}#sk-container-id-1 div.sk-parallel-item {display: flex;flex-direction: column;z-index: 1;position: relative;background-color: white;}#sk-container-id-1 div.sk-parallel-item:first-child::after {align-self: flex-end;width: 50%;}#sk-container-id-1 div.sk-parallel-item:last-child::after {align-self: flex-start;width: 50%;}#sk-container-id-1 div.sk-parallel-item:only-child::after {width: 0;}#sk-container-id-1 div.sk-dashed-wrapped {border: 1px dashed gray;margin: 0 0.4em 0.5em 0.4em;box-sizing: border-box;padding-bottom: 0.4em;background-color: white;}#sk-container-id-1 div.sk-label label {font-family: monospace;font-weight: bold;display: inline-block;line-height: 1.2em;}#sk-container-id-1 div.sk-label-container {text-align: center;}#sk-container-id-1 div.sk-container {/* jupyter's `normalize.less` sets `[hidden] { display: none; }` but bootstrap.min.css set `[hidden] { display: none !important; }` so we also need the `!important` here to be able to override the default hidden behavior on the sphinx rendered scikit-learn.org. See: https://github.com/scikit-learn/scikit-learn/issues/21755 */display: inline-block !important;position: relative;}#sk-container-id-1 div.sk-text-repr-fallback {display: none;}</style><div id=\"sk-container-id-1\" class=\"sk-top-container\"><div class=\"sk-text-repr-fallback\"><pre>LinearRegression()</pre><b>In a Jupyter environment, please rerun this cell to show the HTML representation or trust the notebook. <br />On GitHub, the HTML representation is unable to render, please try loading this page with nbviewer.org.</b></div><div class=\"sk-container\" hidden><div class=\"sk-item\"><div class=\"sk-estimator sk-toggleable\"><input class=\"sk-toggleable__control sk-hidden--visually\" id=\"sk-estimator-id-1\" type=\"checkbox\" checked><label for=\"sk-estimator-id-1\" class=\"sk-toggleable__label sk-toggleable__label-arrow\">LinearRegression</label><div class=\"sk-toggleable__content\"><pre>LinearRegression()</pre></div></div></div></div></div>"
      ],
      "text/plain": [
       "LinearRegression()"
      ]
     },
     "execution_count": 29,
     "metadata": {},
     "output_type": "execute_result"
    }
   ],
   "source": [
    "model = LinearRegression()\n",
    "model.fit(X_train, y_train)"
   ]
  },
  {
   "cell_type": "code",
   "execution_count": 30,
   "id": "7d83ca01-1d7d-44b1-b65b-59b1c2da3ed9",
   "metadata": {},
   "outputs": [
    {
     "name": "stdout",
     "output_type": "stream",
     "text": [
      "Mean Absolute Error (MAE) : 1292318.27\n",
      "Mean Squared Error (MSE) : 2092854499172.07\n"
     ]
    }
   ],
   "source": [
    "y_pred = model.predict(X_test)\n",
    "mae = mean_absolute_error(y_test, y_pred)\n",
    "mse = mean_squared_error(y_test, y_pred)\n",
    "print(f\"Mean Absolute Error (MAE) : {mae:.2f}\")\n",
    "print(f\"Mean Squared Error (MSE) : {mse:.2f}\")\n"
   ]
  },
  {
   "cell_type": "code",
   "execution_count": 31,
   "id": "dd002bf7-ee4b-482d-befd-d00d450c96c5",
   "metadata": {},
   "outputs": [
    {
     "data": {
      "image/png": "[encoded data removed]",
      "text/plain": [
       "<Figure size 800x500 with 1 Axes>"
      ]
     },
     "metadata": {},
     "output_type": "display_data"
    }
   ],
   "source": [
    "plt.figure(figsize=(8,5))\n",
    "sns.scatterplot(x = X_test['Rooms'], y=y_test, color='blue', label='Skutečné hodnoty')\n",
    "sns.lineplot(x = X_test['Rooms'], y = y_pred, color='red', label='Predikované hodnoty')\n",
    "plt.xlabel('Počet pokojů')\n",
    "plt.ylabel('Cena')\n",
    "plt.title('Model predikce ceny podle počtu pokojů')\n",
    "plt.legend()\n",
    "plt.show()"
   ]
  },
  {
   "cell_type": "markdown",
   "id": "191b19dc-6c6f-4143-9bc9-7029bd8de6e0",
   "metadata": {},
   "source": [
    "VZTAH MEZI CENOU A VELIKOSTÍ NEMOVITOSTI"
   ]
  },
  {
   "cell_type": "code",
   "execution_count": 33,
   "id": "67624f6b-e945-446c-8414-ed8313c2baf9",
   "metadata": {},
   "outputs": [
    {
     "data": {
      "image/png": "[encoded data removed]",
      "text/plain": [
       "<Figure size 800x500 with 1 Axes>"
      ]
     },
     "metadata": {},
     "output_type": "display_data"
    }
   ],
   "source": [
    "plt.figure(figsize=(8,5))\n",
    "sns.regplot(x=df['Size_sqm'], y=df['Price'], scatter_kws={'alpha':0.6}, line_kws={'color':'red'})\n",
    "plt.title('Vztah mezi velikostí a cenou nemovitosti')\n",
    "plt.xlabel('Velikost (m²)')\n",
    "plt.ylabel('Cena')\n",
    "plt.show()\n"
   ]
  },
  {
   "cell_type": "code",
   "execution_count": 34,
   "id": "725e4fa4-2f95-4ece-9f53-484a8d1c6d9d",
   "metadata": {},
   "outputs": [],
   "source": [
    "df.index = pd.to_datetime(df.index)\n",
    "df['Year'] = df.index.year\n",
    "df['Year'] = pd.to_datetime(df['Year']).dt.year"
   ]
  },
  {
   "cell_type": "markdown",
   "id": "05b1e56e-665c-46fc-99f6-7d16245af5bf",
   "metadata": {},
   "source": [
    "PREDIKCE BUDOUCÍCH CEN"
   ]
  },
  {
   "cell_type": "code",
   "execution_count": 36,
   "id": "01e5fb7a-0ba7-4493-b687-e9756886c429",
   "metadata": {},
   "outputs": [
    {
     "name": "stderr",
     "output_type": "stream",
     "text": [
      "C:\\Users\\42072\\anaconda3\\Lib\\site-packages\\sklearn\\base.py:464: UserWarning: X does not have valid feature names, but LinearRegression was fitted with feature names\n",
      "  warnings.warn(\n"
     ]
    },
    {
     "data": {
      "image/png": "[encoded data removed]",
      "text/plain": [
       "<Figure size 1000x500 with 1 Axes>"
      ]
     },
     "metadata": {},
     "output_type": "display_data"
    }
   ],
   "source": [
    "import numpy as np\n",
    "import pandas as pd\n",
    "import matplotlib.pyplot as plt\n",
    "import seaborn as sns\n",
    "from sklearn.linear_model import LinearRegression\n",
    "\n",
    "\n",
    "df['Year'] = df['Year_Built']  \n",
    "\n",
    "\n",
    "X = df[['Year']]\n",
    "y = df['Price']\n",
    "\n",
    "\n",
    "model = LinearRegression()\n",
    "model.fit(X, y)\n",
    "\n",
    "\n",
    "future_years = np.arange(df['Year'].max() + 1, df['Year'].max() + 7).reshape(-1, 1)\n",
    "future_prices = model.predict(future_years)\n",
    "\n",
    "\n",
    "df_pred = pd.DataFrame({'Year': future_years.flatten(), 'Price': future_prices})\n",
    "df_pred.set_index('Year', inplace=True)\n",
    "\n",
    "\n",
    "plt.figure(figsize=(10,5))\n",
    "sns.lineplot(data=df, x='Year', y='Price', marker='o', color='blue', label='Skutečné ceny')\n",
    "sns.lineplot(data=df_pred, x=df_pred.index, y='Price', marker='o', color='red', linestyle='dashed', label='Predikce')\n",
    "plt.xlabel('Rok')\n",
    "plt.ylabel('Cena')\n",
    "plt.title('Predikce ceny v budoucnosti')\n",
    "plt.xticks(rotation=45)\n",
    "plt.legend()\n",
    "plt.grid()\n",
    "plt.show()\n"
   ]
  },
  {
   "cell_type": "code",
   "execution_count": null,
   "id": "288ab988-46e6-4aba-8787-2d5bc526a59e",
   "metadata": {},
   "outputs": [],
   "source": []
  }
 ],
 "metadata": {
  "kernelspec": {
   "display_name": "Python [conda env:base] *",
   "language": "python",
   "name": "conda-base-py"
  },
  "language_info": {
   "codemirror_mode": {
    "name": "ipython",
    "version": 3
   },
   "file_extension": ".py",
   "mimetype": "text/x-python",
   "name": "python",
   "nbconvert_exporter": "python",
   "pygments_lexer": "ipython3",
   "version": "3.11.5"
  }
 },
 "nbformat": 4,
 "nbformat_minor": 5
}
